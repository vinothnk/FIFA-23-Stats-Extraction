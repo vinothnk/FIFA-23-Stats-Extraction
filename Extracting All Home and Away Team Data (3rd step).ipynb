{
 "cells": [
  {
   "cell_type": "code",
   "execution_count": 1,
   "id": "6b886ddf",
   "metadata": {},
   "outputs": [],
   "source": [
    "from PIL import Image\n",
    "import os\n",
    "import shutil\n",
    "import glob\n",
    "import cv2\n",
    "import pytesseract\n",
    "import re\n",
    "import pandas as pd"
   ]
  },
  {
   "cell_type": "code",
   "execution_count": 2,
   "id": "d35297c5",
   "metadata": {},
   "outputs": [],
   "source": [
    "#Define configuration that only whitelists number characters\n",
    "custom_config = r'--oem 3 --psm 11 -c tessedit_char_whitelist=0123456789'\n",
    "\n",
    "pytesseract.pytesseract.tesseract_cmd = r\"C:\\Program Files\\Tesseract-OCR\\tesseract.exe\""
   ]
  },
  {
   "cell_type": "code",
   "execution_count": 3,
   "id": "0f3127b4",
   "metadata": {},
   "outputs": [],
   "source": [
    "#going into specific folder in directory\n",
    "def dir_to_subdir():\n",
    "    for file in glob.glob('C:\\\\Users\\\\wooo_\\\\PycharmProjects\\\\FIFA 23\\\\Match*'):\n",
    "        print(file)\n",
    "        folder_list.append(file)\n",
    "    for file in os.listdir(f'{folder_list[0]}'):\n",
    "        print(file)\n",
    "        jpeg_list.append(file)\n",
    "    return"
   ]
  },
  {
   "cell_type": "code",
   "execution_count": 4,
   "id": "857de67b",
   "metadata": {},
   "outputs": [],
   "source": [
    "def extract_teamnames():\n",
    "    for img_path in folder_list:\n",
    "        print(img_path)\n",
    "        for elem in jpeg_list:\n",
    "            print(elem)\n",
    "            if elem == 'away_team_name.jpeg':\n",
    "                image = cv2.imread(f'{img_path}\\\\{elem}', 0)\n",
    "                thresh = cv2.threshold(image, 0, 255, cv2.THRESH_BINARY_INV + cv2.THRESH_OTSU)[1]\n",
    "                data = pytesseract.image_to_string(thresh, lang='eng',config='--psm 6')\n",
    "                print(data)\n",
    "                data = data.rstrip()\n",
    "                away_team_data.append(data)\n",
    "            elif elem == 'home_team_name.jpeg':\n",
    "                image = cv2.imread(f'{img_path}\\\\{elem}', 0)\n",
    "                thresh = cv2.threshold(image, 0, 255, cv2.THRESH_BINARY_INV + cv2.THRESH_OTSU)[1]\n",
    "                data = pytesseract.image_to_string(thresh, lang='eng',config='--psm 6')\n",
    "                print(data)\n",
    "                data = data.rstrip()\n",
    "                home_team_data.append(data)\n",
    "            elif elem == 'away_team_score.jpeg':\n",
    "                image = cv2.imread(f'{img_path}\\\\{elem}', 0)\n",
    "                thresh = cv2.threshold(image, 0, 255, cv2.THRESH_BINARY_INV + cv2.THRESH_OTSU)[1]\n",
    "                data = pytesseract.image_to_string(thresh, lang='eng',config='--psm 6')\n",
    "                print(data)\n",
    "                data = data.rstrip()\n",
    "                away_team_data.append(data)\n",
    "            elif elem == 'home_team_score.jpeg':\n",
    "                image = cv2.imread(f'{img_path}\\\\{elem}', 0)\n",
    "                thresh = cv2.threshold(image, 0, 255, cv2.THRESH_BINARY_INV + cv2.THRESH_OTSU)[1]\n",
    "                data = pytesseract.image_to_string(thresh, lang='eng',config='--psm 6')\n",
    "                print(data)\n",
    "                data = data.rstrip()\n",
    "                home_team_data.append(data)\n",
    "            elif elem == 'away_team_stats.jpeg':\n",
    "                image = cv2.imread(f'{img_path}\\\\{elem}', 0)\n",
    "                thresh = cv2.threshold(image, 0, 255, cv2.THRESH_BINARY_INV + cv2.THRESH_OTSU)[1]\n",
    "                data = pytesseract.image_to_string(thresh, lang='eng',config='--psm 6')\n",
    "                data = re.sub(r'[[|a-zA-Z ?|$|! ]',r'',data)\n",
    "                data = data.split('\\n')\n",
    "                for new_elem in data:\n",
    "                    if new_elem != '':\n",
    "                        away_team_data.append(new_elem)\n",
    "            elif elem == 'home_team_stats.jpeg':\n",
    "                image = cv2.imread(f'{img_path}\\\\{elem}', 0)\n",
    "                thresh = cv2.threshold(image, 0, 255, cv2.THRESH_BINARY_INV + cv2.THRESH_OTSU)[1]\n",
    "                data = pytesseract.image_to_string(thresh, lang='eng',config='--psm 6')\n",
    "                print(data)\n",
    "                data = re.sub(r'[[|a-zA-Z ?|$|! ]',r'',data)\n",
    "                data = data.split('\\n')\n",
    "                for new_elem in data:\n",
    "                    if new_elem != '':\n",
    "                        home_team_data.append(new_elem)\n",
    "    return"
   ]
  },
  {
   "cell_type": "code",
   "execution_count": 5,
   "id": "154d6818",
   "metadata": {},
   "outputs": [],
   "source": [
    "#checking if data is correct\n",
    "def check_data():\n",
    "    print(len(away_team_data))\n",
    "    print(away_team_data)\n",
    "    print(len(home_team_data))\n",
    "    print(home_team_data)\n",
    "    return"
   ]
  },
  {
   "cell_type": "code",
   "execution_count": 6,
   "id": "f22e9a4d",
   "metadata": {},
   "outputs": [],
   "source": [
    "def df_append_df_save():\n",
    "    df = pd.read_csv('Palermo Stats Tracking.csv')\n",
    "    # convert the list into a Series\n",
    "    home_data_row = pd.Series(home_team_data, index=df.columns)\n",
    "    away_data_row = pd.Series(away_team_data, index=df.columns)\n",
    "    # append the new row to the DataFrame\n",
    "    df = df.append(home_data_row, ignore_index=True)\n",
    "    df = df.append(away_data_row, ignore_index=True)\n",
    "    #saving df back into csv file\n",
    "    df.to_csv('Palermo Stats Tracking.csv', index=False)\n",
    "    return"
   ]
  },
  {
   "cell_type": "code",
   "execution_count": 7,
   "id": "dd5083b2",
   "metadata": {},
   "outputs": [],
   "source": [
    "away_team_data = []\n",
    "home_team_data = []\n",
    "folder_list = []\n",
    "jpeg_list = []"
   ]
  },
  {
   "cell_type": "code",
   "execution_count": 8,
   "id": "36894200",
   "metadata": {},
   "outputs": [
    {
     "name": "stdout",
     "output_type": "stream",
     "text": [
      "C:\\Users\\wooo_\\PycharmProjects\\FIFA 23\\Match 1 - Palermo vs Bari\n",
      "away_team_name.jpeg\n",
      "away_team_score.jpeg\n",
      "away_team_stats.jpeg\n",
      "Defending.jpeg\n",
      "home_team_name.jpeg\n",
      "home_team_score.jpeg\n",
      "home_team_stats.jpeg\n",
      "stats_names.jpeg\n",
      "Summary.jpeg\n"
     ]
    }
   ],
   "source": [
    "dir_to_subdir()"
   ]
  },
  {
   "cell_type": "code",
   "execution_count": 9,
   "id": "e8bb1317",
   "metadata": {},
   "outputs": [
    {
     "name": "stdout",
     "output_type": "stream",
     "text": [
      "C:\\Users\\wooo_\\PycharmProjects\\FIFA 23\\Match 1 - Palermo vs Bari\n",
      "away_team_name.jpeg\n",
      "BARI\n",
      "\n",
      "away_team_score.jpeg\n",
      "1\n",
      "\n",
      "away_team_stats.jpeg\n",
      "Defending.jpeg\n",
      "home_team_name.jpeg\n"
     ]
    },
    {
     "name": "stderr",
     "output_type": "stream",
     "text": [
      "C:\\Users\\wooo_\\AppData\\Local\\Temp\\ipykernel_16364\\240028885.py:38: FutureWarning: Possible nested set at position 1\n",
      "  data = re.sub(r'[[|a-zA-Z ?|$|! ]',r'',data)\n"
     ]
    },
    {
     "name": "stdout",
     "output_type": "stream",
     "text": [
      "PALERMO\n",
      "\n",
      "home_team_score.jpeg\n",
      "2\n",
      "\n",
      "home_team_stats.jpeg\n",
      "hh\n",
      "[10\n",
      "| 3.8\n",
      "139\n",
      "| 80\n",
      "[14\n",
      "[ 24\n",
      "1\n",
      "[2\n",
      "I1\n",
      "0\n",
      "\n",
      "1\n",
      "\n",
      "0\n",
      "\n",
      "0\n",
      "\n",
      "0\n",
      "\n",
      "stats_names.jpeg\n",
      "Summary.jpeg\n"
     ]
    }
   ],
   "source": [
    "extract_teamnames()"
   ]
  },
  {
   "cell_type": "code",
   "execution_count": 10,
   "id": "af8f1bf7",
   "metadata": {},
   "outputs": [
    {
     "name": "stdout",
     "output_type": "stream",
     "text": [
      "17\n",
      "['BARI', '1', '56', '5', '1.7', '187', '27', '10', '19', '3', '1', '0', '1', '3', '0', '0', '0']\n",
      "16\n",
      "['PALERMO', '2', '10', '3.8', '139', '80', '14', '24', '1', '2', '1', '0', '1', '0', '0', '0']\n"
     ]
    }
   ],
   "source": [
    "check_data()"
   ]
  },
  {
   "cell_type": "code",
   "execution_count": 11,
   "id": "ef14fd5f",
   "metadata": {},
   "outputs": [],
   "source": [
    "home_team_data.insert(2, 44)\n",
    "# away_team_data.insert(15,4)"
   ]
  },
  {
   "cell_type": "code",
   "execution_count": 12,
   "id": "12b5c2f0",
   "metadata": {},
   "outputs": [
    {
     "name": "stdout",
     "output_type": "stream",
     "text": [
      "17\n",
      "['BARI', '1', '56', '5', '1.7', '187', '27', '10', '19', '3', '1', '0', '1', '3', '0', '0', '0']\n",
      "17\n",
      "['PALERMO', '2', 44, '10', '3.8', '139', '80', '14', '24', '1', '2', '1', '0', '1', '0', '0', '0']\n"
     ]
    }
   ],
   "source": [
    "check_data()"
   ]
  },
  {
   "cell_type": "code",
   "execution_count": 13,
   "id": "3fa2e3cf",
   "metadata": {},
   "outputs": [
    {
     "name": "stderr",
     "output_type": "stream",
     "text": [
      "C:\\Users\\wooo_\\AppData\\Local\\Temp\\ipykernel_16364\\3352800859.py:7: FutureWarning: The frame.append method is deprecated and will be removed from pandas in a future version. Use pandas.concat instead.\n",
      "  df = df.append(home_data_row, ignore_index=True)\n",
      "C:\\Users\\wooo_\\AppData\\Local\\Temp\\ipykernel_16364\\3352800859.py:8: FutureWarning: The frame.append method is deprecated and will be removed from pandas in a future version. Use pandas.concat instead.\n",
      "  df = df.append(away_data_row, ignore_index=True)\n"
     ]
    }
   ],
   "source": [
    "df_append_df_save()"
   ]
  }
 ],
 "metadata": {
  "kernelspec": {
   "display_name": "Python 3 (ipykernel)",
   "language": "python",
   "name": "python3"
  },
  "language_info": {
   "codemirror_mode": {
    "name": "ipython",
    "version": 3
   },
   "file_extension": ".py",
   "mimetype": "text/x-python",
   "name": "python",
   "nbconvert_exporter": "python",
   "pygments_lexer": "ipython3",
   "version": "3.9.12"
  }
 },
 "nbformat": 4,
 "nbformat_minor": 5
}
