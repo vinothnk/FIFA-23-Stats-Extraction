{
 "cells": [
  {
   "cell_type": "code",
   "execution_count": 1,
   "id": "da34578b",
   "metadata": {},
   "outputs": [],
   "source": [
    "from PIL import Image\n",
    "import os\n",
    "import shutil\n",
    "import glob\n",
    "import cv2\n",
    "import pytesseract\n",
    "import re\n",
    "import pandas as pd"
   ]
  },
  {
   "cell_type": "code",
   "execution_count": 2,
   "id": "d96257b3",
   "metadata": {},
   "outputs": [],
   "source": [
    "#Define configuration that only whitelists number characters\n",
    "custom_config = r'--oem 3 --psm 11 -c tessedit_char_whitelist=0123456789'\n",
    "\n",
    "pytesseract.pytesseract.tesseract_cmd = r\"C:\\Program Files\\Tesseract-OCR\\tesseract.exe\""
   ]
  },
  {
   "cell_type": "code",
   "execution_count": 45,
   "id": "214c2ebe",
   "metadata": {},
   "outputs": [
    {
     "name": "stdout",
     "output_type": "stream",
     "text": [
      "SUMMARY\n",
      "\n",
      "88%\n",
      "\n",
      "DRIBBLE SUCCESS RATE\n",
      "\n",
      "50%\n",
      "\n",
      "SHOT ACCURACY\n",
      "\n",
      "76%\n",
      "\n",
      "PASS ACCURACY\n",
      "\n",
      "@ Back Toggle Left GD Toggle Right @ Scroll\n",
      "\n",
      "PALERMO\n",
      "\n",
      "POSSESSION\n",
      "\n",
      "4h\n",
      "| 10\n",
      "| 3.8\n",
      "\n",
      "(— a —  —)\n",
      "\n",
      "LERMO\n",
      "\n",
      "94:03\n",
      "\n",
      "SHOOTING PASSING\n",
      "\n",
      "Possession %\n",
      "Shots\n",
      "Expected Goals\n",
      "Passes\n",
      "Tackles\n",
      "Tackles Won\n",
      "Interceptions\n",
      "Saves\n",
      "Fouls Committed\n",
      "Offsides\n",
      "Corners\n",
      "Free Kicks\n",
      "Penalty Kicks\n",
      "Yellow Cards\n",
      "\n",
      "Red Cards\n",
      "\n",
      "wP2:1 Gomi\n",
      "\n",
      "DEFENDING\n",
      "\n",
      "56 |\n",
      "5\n",
      "\n",
      "EVENTS\n",
      "\n",
      "90%\n",
      "\n",
      "DRIBBLE SUCCESS RATE\n",
      "\n",
      "40%\n",
      "\n",
      "SHOT ACCURACY\n",
      "\n",
      "81%\n",
      "\n",
      "PASS ACCURACY\n",
      "\n"
     ]
    }
   ],
   "source": [
    "for file in glob.glob('C:\\\\Users\\\\wooo_\\\\PycharmProjects\\\\FIFA 23\\\\Match*'):\n",
    "        #open the match summary image\n",
    "        img = Image.open(f\"{file}\\\\Summary.jpeg\")\n",
    "        pytesseract.tesseract_cmd = pytesseract.pytesseract.tesseract_cmd\n",
    "        # Passing the image object to image_to_string() function\n",
    "        # This function will extract the text from the image\n",
    "        text = pytesseract.image_to_string(img)\n",
    "        print(text)\n",
    "        stat_names = text.splitlines()\n",
    "        for elem in stat_names:\n",
    "            if elem == '':\n",
    "                stat_names.remove('')"
   ]
  },
  {
   "cell_type": "code",
   "execution_count": 46,
   "id": "c4b87a45",
   "metadata": {},
   "outputs": [
    {
     "data": {
      "text/plain": [
       "['SUMMARY',\n",
       " '88%',\n",
       " 'DRIBBLE SUCCESS RATE',\n",
       " '50%',\n",
       " 'SHOT ACCURACY',\n",
       " '76%',\n",
       " 'PASS ACCURACY',\n",
       " '@ Back Toggle Left GD Toggle Right @ Scroll',\n",
       " 'PALERMO',\n",
       " 'POSSESSION',\n",
       " '4h',\n",
       " '| 10',\n",
       " '| 3.8',\n",
       " '(— a —  —)',\n",
       " 'LERMO',\n",
       " '94:03',\n",
       " 'SHOOTING PASSING',\n",
       " 'Possession %',\n",
       " 'Shots',\n",
       " 'Expected Goals',\n",
       " 'Passes',\n",
       " 'Tackles',\n",
       " 'Tackles Won',\n",
       " 'Interceptions',\n",
       " 'Saves',\n",
       " 'Fouls Committed',\n",
       " 'Offsides',\n",
       " 'Corners',\n",
       " 'Free Kicks',\n",
       " 'Penalty Kicks',\n",
       " 'Yellow Cards',\n",
       " 'Red Cards',\n",
       " 'wP2:1 Gomi',\n",
       " 'DEFENDING',\n",
       " '56 |',\n",
       " '5',\n",
       " 'EVENTS',\n",
       " '90%',\n",
       " 'DRIBBLE SUCCESS RATE',\n",
       " '40%',\n",
       " 'SHOT ACCURACY',\n",
       " '81%',\n",
       " 'PASS ACCURACY']"
      ]
     },
     "execution_count": 46,
     "metadata": {},
     "output_type": "execute_result"
    }
   ],
   "source": [
    "stat_names"
   ]
  },
  {
   "cell_type": "code",
   "execution_count": 47,
   "id": "fb314616",
   "metadata": {},
   "outputs": [],
   "source": [
    "stat_list = stat_names[17:32]"
   ]
  },
  {
   "cell_type": "code",
   "execution_count": 48,
   "id": "4e0e4826",
   "metadata": {},
   "outputs": [
    {
     "data": {
      "text/plain": [
       "['Possession %',\n",
       " 'Shots',\n",
       " 'Expected Goals',\n",
       " 'Passes',\n",
       " 'Tackles',\n",
       " 'Tackles Won',\n",
       " 'Interceptions',\n",
       " 'Saves',\n",
       " 'Fouls Committed',\n",
       " 'Offsides',\n",
       " 'Corners',\n",
       " 'Free Kicks',\n",
       " 'Penalty Kicks',\n",
       " 'Yellow Cards',\n",
       " 'Red Cards']"
      ]
     },
     "execution_count": 48,
     "metadata": {},
     "output_type": "execute_result"
    }
   ],
   "source": [
    "stat_list"
   ]
  },
  {
   "cell_type": "code",
   "execution_count": 49,
   "id": "61c6cfb5",
   "metadata": {},
   "outputs": [],
   "source": [
    "df = pd.DataFrame(columns=stat_list)"
   ]
  },
  {
   "cell_type": "code",
   "execution_count": 50,
   "id": "d8729a37",
   "metadata": {},
   "outputs": [
    {
     "data": {
      "text/html": [
       "<div>\n",
       "<style scoped>\n",
       "    .dataframe tbody tr th:only-of-type {\n",
       "        vertical-align: middle;\n",
       "    }\n",
       "\n",
       "    .dataframe tbody tr th {\n",
       "        vertical-align: top;\n",
       "    }\n",
       "\n",
       "    .dataframe thead th {\n",
       "        text-align: right;\n",
       "    }\n",
       "</style>\n",
       "<table border=\"1\" class=\"dataframe\">\n",
       "  <thead>\n",
       "    <tr style=\"text-align: right;\">\n",
       "      <th></th>\n",
       "      <th>Possession %</th>\n",
       "      <th>Shots</th>\n",
       "      <th>Expected Goals</th>\n",
       "      <th>Passes</th>\n",
       "      <th>Tackles</th>\n",
       "      <th>Tackles Won</th>\n",
       "      <th>Interceptions</th>\n",
       "      <th>Saves</th>\n",
       "      <th>Fouls Committed</th>\n",
       "      <th>Offsides</th>\n",
       "      <th>Corners</th>\n",
       "      <th>Free Kicks</th>\n",
       "      <th>Penalty Kicks</th>\n",
       "      <th>Yellow Cards</th>\n",
       "      <th>Red Cards</th>\n",
       "    </tr>\n",
       "  </thead>\n",
       "  <tbody>\n",
       "  </tbody>\n",
       "</table>\n",
       "</div>"
      ],
      "text/plain": [
       "Empty DataFrame\n",
       "Columns: [Possession %, Shots, Expected Goals, Passes, Tackles, Tackles Won, Interceptions, Saves, Fouls Committed, Offsides, Corners, Free Kicks, Penalty Kicks, Yellow Cards, Red Cards]\n",
       "Index: []"
      ]
     },
     "execution_count": 50,
     "metadata": {},
     "output_type": "execute_result"
    }
   ],
   "source": [
    "df"
   ]
  },
  {
   "cell_type": "code",
   "execution_count": 51,
   "id": "bf7966f2",
   "metadata": {},
   "outputs": [],
   "source": [
    "df.to_csv('Palermo Summary Stats Tracking.csv', index=False)"
   ]
  },
  {
   "cell_type": "code",
   "execution_count": null,
   "id": "d0a157eb",
   "metadata": {},
   "outputs": [],
   "source": []
  }
 ],
 "metadata": {
  "kernelspec": {
   "display_name": "Python 3 (ipykernel)",
   "language": "python",
   "name": "python3"
  },
  "language_info": {
   "codemirror_mode": {
    "name": "ipython",
    "version": 3
   },
   "file_extension": ".py",
   "mimetype": "text/x-python",
   "name": "python",
   "nbconvert_exporter": "python",
   "pygments_lexer": "ipython3",
   "version": "3.9.12"
  }
 },
 "nbformat": 4,
 "nbformat_minor": 5
}
