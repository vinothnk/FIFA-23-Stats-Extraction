{
 "cells": [
  {
   "cell_type": "code",
   "execution_count": 1,
   "id": "858edd8b",
   "metadata": {},
   "outputs": [],
   "source": [
    "from PIL import Image\n",
    "import os\n",
    "import shutil\n",
    "import glob\n",
    "\n",
    "rootdir = 'C:\\\\Users\\\\wooo_\\\\PycharmProjects\\\\FIFA 23'\n",
    "\n",
    "picture_dict = {'stats_names' : (1650,500,2200,1950),\n",
    "                    'home_team_name': (1315,115,1545,200),\n",
    "                    'away_team_name': (2295,115,2450,200),\n",
    "                    'home_team_score':( 1765,100,1865,215),\n",
    "                    'away_team_score':( 1985,100,2065,215),\n",
    "                    'home_team_stats':( 1250,500,1450,1950),\n",
    "                    'away_team_stats':( 2400,500,2600,1950)\n",
    "                   }\n",
    "\n",
    "def extract_text_images():\n",
    "    for file in glob.glob('C:\\\\Users\\\\wooo_\\\\PycharmProjects\\\\FIFA 23\\\\Match*'):\n",
    "        #open the match summary image\n",
    "        img = Image.open(f\"{file}\\\\Summary.jpeg\")\n",
    "        for key, value in picture_dict.items():\n",
    "            #crops the picture according to stated coordinates in picture_dict\n",
    "            img2 = img.crop(value)\n",
    "            #save the cropped picture and saves it\n",
    "            img2.save(f'{key}.jpeg')\n",
    "            #moves the pictur\n",
    "            shutil.move(f'{rootdir}/{key}.jpeg', f'{file}/{key}.jpeg')\n",
    "    return"
   ]
  },
  {
   "cell_type": "code",
   "execution_count": 2,
   "id": "83f61170",
   "metadata": {},
   "outputs": [],
   "source": [
    "extract_text_images()"
   ]
  },
  {
   "cell_type": "code",
   "execution_count": null,
   "id": "c959e73a",
   "metadata": {},
   "outputs": [],
   "source": []
  }
 ],
 "metadata": {
  "kernelspec": {
   "display_name": "Python 3 (ipykernel)",
   "language": "python",
   "name": "python3"
  },
  "language_info": {
   "codemirror_mode": {
    "name": "ipython",
    "version": 3
   },
   "file_extension": ".py",
   "mimetype": "text/x-python",
   "name": "python",
   "nbconvert_exporter": "python",
   "pygments_lexer": "ipython3",
   "version": "3.9.12"
  }
 },
 "nbformat": 4,
 "nbformat_minor": 5
}
